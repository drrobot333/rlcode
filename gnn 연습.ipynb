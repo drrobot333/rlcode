{
 "cells": [
  {
   "cell_type": "code",
   "execution_count": 67,
   "id": "66b2e6e4",
   "metadata": {},
   "outputs": [],
   "source": [
    "import torch\n",
    "import torch.nn.functional as F\n",
    "import torch.nn as nn\n",
    "from torch_geometric.nn import NNConv\n",
    "from torch_geometric.data import Data\n",
    "from torch_geometric.loader import DataLoader\n",
    "from torch_geometric.nn import global_mean_pool"
   ]
  },
  {
   "cell_type": "code",
   "execution_count": 69,
   "id": "6f0c24a9",
   "metadata": {},
   "outputs": [
    {
     "name": "stdout",
     "output_type": "stream",
     "text": [
      "None\n"
     ]
    },
    {
     "data": {
      "text/plain": [
       "tensor([0, 0, 0, 1, 1, 1])"
      ]
     },
     "execution_count": 69,
     "metadata": {},
     "output_type": "execute_result"
    }
   ],
   "source": [
    "node_feature1 = torch.tensor([[1, 2, 3, 4], [2, 1, 9, 3], [1, 5, 5, 1]], dtype=torch.float)\n",
    "node_feature2 = torch.tensor([[1, 2, 3, 4], [2, 1, 9, 3], [1, 5, 5, 1]], dtype=torch.float)\n",
    "\n",
    "edge_index1 = torch.tensor([[0, 0, 1],[1, 2, 2]], dtype=torch.long)\n",
    "edge_index2 = torch.tensor([[0, 0, 1],[1, 2, 2]], dtype=torch.long)\n",
    "\n",
    "edge_feature1 = torch.tensor([[0, 0], [0, 0], [0, 0]], dtype=torch.float)\n",
    "edge_feature2 = torch.tensor([[0, 0], [0, 0], [0, 0]], dtype=torch.float)\n",
    "\n",
    "data1 = Data(x=node_feature1, edge_attr=edge_feature1, edge_index=edge_index1)\n",
    "print(data1.batch)\n",
    "data2 = Data(x=node_feature2, edge_attr=edge_feature2, edge_index=edge_index2)\n",
    "\n",
    "data_list = [data1, data2]\n",
    "loader = DataLoader(data_list, batch_size=2)\n",
    "batch = next(iter(loader))\n",
    "batch.batch"
   ]
  },
  {
   "cell_type": "code",
   "execution_count": null,
   "id": "6afcbfb7",
   "metadata": {},
   "outputs": [],
   "source": [
    "node_feature = torch.tensor([[1, 2, 3, 4], [2, 1, 9, 3], [1, 5, 5, 1]], dtype=torch.float)\n",
    "edge_feature = torch.tensor([[0, 1], [2, 0], [3, -2]], dtype=torch.float)\n",
    "edge_index = torch.tensor([[0, 0, 1]\n",
    "                           [1, 2, 2]], dtype=torch.long)\n",
    "data = Data(x=node_feature, edge_attr=edge_feature, edge_index=edge_index)"
   ]
  },
  {
   "cell_type": "code",
   "execution_count": null,
   "id": "b4218848",
   "metadata": {},
   "outputs": [],
   "source": []
  },
  {
   "cell_type": "code",
   "execution_count": 75,
   "id": "b115b0aa",
   "metadata": {},
   "outputs": [],
   "source": [
    "class DGN(torch.nn.Module):\n",
    "    def __init__(self):\n",
    "        super(DGN, self).__init__()\n",
    "        \n",
    "        self.mlp1 = nn.Sequential(nn.Linear(2, 4*6), nn.ReLU())\n",
    "        self.conv1 = NNConv(4, 6, self.mlp1, aggr='mean')\n",
    "        \n",
    "        self.mlp2 = nn.Sequential(nn.Linear(2, 6*6), nn.ReLU())\n",
    "        self.conv2 = NNConv(6, 6, self.mlp2, aggr='mean')\n",
    "        \n",
    "        self.mlp3 = nn.Sequential(nn.Linear(2, 3*6), nn.ReLU())\n",
    "        self.conv3 = NNConv(6, 3, self.mlp3, aggr='mean')\n",
    "        \n",
    "        \n",
    "        \n",
    "    def forward(self, data):\n",
    "        x, edge_attr, edge_index = data.x, data.edge_attr, data.edge_index\n",
    "        x = F.relu(self.conv1(x, edge_index, edge_attr))\n",
    "        x = F.relu(self.conv2(x, edge_index, edge_attr))\n",
    "        x = F.relu(self.conv3(x, edge_index, edge_attr))\n",
    "        x = global_mean_pool(x, data.batch)\n",
    "        print(x.shape)\n",
    "        return x"
   ]
  },
  {
   "cell_type": "code",
   "execution_count": null,
   "id": "b361cbf7",
   "metadata": {},
   "outputs": [],
   "source": []
  },
  {
   "cell_type": "code",
   "execution_count": null,
   "id": "1738fd16",
   "metadata": {},
   "outputs": [],
   "source": []
  },
  {
   "cell_type": "code",
   "execution_count": 76,
   "id": "0b525dad",
   "metadata": {},
   "outputs": [],
   "source": [
    "dgn = DGN()"
   ]
  },
  {
   "cell_type": "code",
   "execution_count": 79,
   "id": "bda36d66",
   "metadata": {},
   "outputs": [
    {
     "name": "stdout",
     "output_type": "stream",
     "text": [
      "torch.Size([1, 3])\n"
     ]
    },
    {
     "data": {
      "text/plain": [
       "tensor([[0.3574, 0.2273, 0.1498]], grad_fn=<MeanBackward1>)"
      ]
     },
     "execution_count": 79,
     "metadata": {},
     "output_type": "execute_result"
    }
   ],
   "source": [
    "dgn(data2)"
   ]
  }
 ],
 "metadata": {
  "kernelspec": {
   "display_name": "Python 3",
   "language": "python",
   "name": "python3"
  },
  "language_info": {
   "codemirror_mode": {
    "name": "ipython",
    "version": 3
   },
   "file_extension": ".py",
   "mimetype": "text/x-python",
   "name": "python",
   "nbconvert_exporter": "python",
   "pygments_lexer": "ipython3",
   "version": "3.7.10"
  }
 },
 "nbformat": 4,
 "nbformat_minor": 5
}
