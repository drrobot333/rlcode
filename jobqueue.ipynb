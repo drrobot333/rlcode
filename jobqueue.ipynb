{
 "cells": [
  {
   "cell_type": "code",
   "execution_count": 3,
   "id": "29394608",
   "metadata": {},
   "outputs": [],
   "source": [
    "import import_ipynb\n",
    "from library import *"
   ]
  },
  {
   "cell_type": "code",
   "execution_count": 4,
   "id": "3ae7142a",
   "metadata": {},
   "outputs": [],
   "source": [
    "class job_waiting_queue:\n",
    "    def __init__(self):\n",
    "        self.buffer = collections.deque()\n",
    "            \n",
    "    def push(self, job):\n",
    "        self.buffer.append(job)\n",
    "        \n",
    "    def pop(self):\n",
    "        return self.buffer.popleft()\n",
    "        \n",
    "    def __len__(self):\n",
    "        return len(self.buffer)\n",
    "    \n",
    "    def __getitem__(self, position): \n",
    "        return self.buffer[position]   "
   ]
  },
  {
   "cell_type": "code",
   "execution_count": 5,
   "id": "4da9b95a",
   "metadata": {},
   "outputs": [],
   "source": [
    "class backlog:\n",
    "    def __init__(self):\n",
    "        self.buffer = collections.deque()\n",
    "    \n",
    "    def push(self, job):\n",
    "        self.buffer.append(job)\n",
    "    \n",
    "    def pop(self):\n",
    "        return self.buffer.popleft()\n",
    "        \n",
    "    def __len__(self):\n",
    "        return len(self.buffer)"
   ]
  },
  {
   "cell_type": "code",
   "execution_count": null,
   "id": "72c58751",
   "metadata": {},
   "outputs": [],
   "source": []
  }
 ],
 "metadata": {
  "kernelspec": {
   "display_name": "Python 3",
   "language": "python",
   "name": "python3"
  },
  "language_info": {
   "codemirror_mode": {
    "name": "ipython",
    "version": 3
   },
   "file_extension": ".py",
   "mimetype": "text/x-python",
   "name": "python",
   "nbconvert_exporter": "python",
   "pygments_lexer": "ipython3",
   "version": "3.7.10"
  }
 },
 "nbformat": 4,
 "nbformat_minor": 5
}
