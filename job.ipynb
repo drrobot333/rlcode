{
 "cells": [
  {
   "cell_type": "code",
   "execution_count": 1,
   "id": "ed3249f6",
   "metadata": {},
   "outputs": [
    {
     "name": "stdout",
     "output_type": "stream",
     "text": [
      "importing Jupyter notebook from library.ipynb\n",
      "importing Jupyter notebook from job.ipynb\n",
      "importing Jupyter notebook from jobqueue.ipynb\n",
      "importing Jupyter notebook from network.ipynb\n",
      "importing Jupyter notebook from dataplane.ipynb\n"
     ]
    }
   ],
   "source": [
    "import import_ipynb\n",
    "from library import *"
   ]
  },
  {
   "cell_type": "code",
   "execution_count": 2,
   "id": "d4f5e7d3",
   "metadata": {},
   "outputs": [],
   "source": [
    "class subtask:\n",
    "    def __init__(self, comp_demand, link_demand, order, proc_node):\n",
    "        self.comp_demand = comp_demand\n",
    "        self.link_demand = link_demand\n",
    "        self.ori_link_demand = link_demand\n",
    "        self.order = order\n",
    "        self.proc_node = proc_node\n",
    "        \n",
    "        \n",
    "    def recover_link_demand(self):\n",
    "        self.link_demand = ori_link_demand\n",
    "        \n",
    "    def __str__(self):\n",
    "        return f\"({self.comp_demand}, {self.link_demand})\""
   ]
  },
  {
   "cell_type": "code",
   "execution_count": 1,
   "id": "901ae74a",
   "metadata": {},
   "outputs": [],
   "source": [
    "class job:\n",
    "    def __init__(self, source, destination, model, birth):\n",
    "        self.source = source\n",
    "        self.destination = destination\n",
    "        self.model = model\n",
    "        self.subtasks = []\n",
    "        self.offloading = []\n",
    "        self.routing = []\n",
    "        self.birth = birth\n",
    "        self.index = -1\n",
    "        self.total_comp = 0\n",
    "        self.progress = 0\n",
    "        self.comp_delta = 0\n",
    "        for order in range(self.model+2):\n",
    "            self.subtasks.append(subtask(10, 3, order, -1))\n",
    "            self.total_comp += 10\n",
    "            \n",
    "            \n",
    "    def assign_index(self, index):\n",
    "        self.index = index"
   ]
  },
  {
   "cell_type": "code",
   "execution_count": null,
   "id": "4a7d0022",
   "metadata": {},
   "outputs": [],
   "source": []
  }
 ],
 "metadata": {
  "kernelspec": {
   "display_name": "Python 3",
   "language": "python",
   "name": "python3"
  },
  "language_info": {
   "codemirror_mode": {
    "name": "ipython",
    "version": 3
   },
   "file_extension": ".py",
   "mimetype": "text/x-python",
   "name": "python",
   "nbconvert_exporter": "python",
   "pygments_lexer": "ipython3",
   "version": "3.7.10"
  }
 },
 "nbformat": 4,
 "nbformat_minor": 5
}
